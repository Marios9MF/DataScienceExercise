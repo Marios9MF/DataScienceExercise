{
 "cells": [
  {
   "cell_type": "markdown",
   "id": "a9c4ed0c",
   "metadata": {},
   "source": [
    "# Data cleaning tutorial\n",
    "## From website kdnuggets\n",
    "link: https://www.kdnuggets.com/7-steps-to-mastering-data-cleaning-with-python-and-pandas\n",
    "\n",
    "1. Creating a fake dataset with Faker\n",
    "2. Introducing outlies and missing values\n",
    "3. converting Python lists to pandas dataframes\n",
    "4. Understanding the data (basics)\n",
    "5. Duplicates Handling\n",
    "6. Transforming data types (example is object to datetime type)\n",
    "5. Clean text (string replacement)\n",
    "6. Handle Outliers"
   ]
  },
  {
   "cell_type": "code",
   "execution_count": 1,
   "id": "d03c0607",
   "metadata": {},
   "outputs": [],
   "source": [
    "import pandas as pd\n",
    "from faker import Faker\n",
    "import random"
   ]
  },
  {
   "cell_type": "code",
   "execution_count": null,
   "id": "d520f031",
   "metadata": {},
   "outputs": [],
   "source": [
    "# Instance object for Faker class\n",
    "fake = Faker()\n",
    "# Set seed for reproducibility\n",
    "Faker.seed(42)\n",
    "\n",
    "# Create list to hold data fields and values\n",
    "data = []\n",
    "\n",
    "# Iteratively produce columns (fields) and entries\n",
    "for _ in range(1000):\n",
    "    data.append({\n",
    "        \"Name\": fake.name(),\n",
    "        \"Age\":random.randint(18,70),\n",
    "        \"Email\":fake.email(),\n",
    "        'Phone': fake.phone_number(),\n",
    "        'Address': fake.address(),\n",
    "        'Salary': random.randint(20000, 150000),\n",
    "        'Join_Date': fake.date_this_decade(),\n",
    "        'Employment_Status': random.choice(['Full-Time', 'Part-Time', 'Contract']),\n",
    "        'Department': random.choice(['IT', 'Engineering','Finance', 'HR', 'Marketing'])\n",
    "    })"
   ]
  },
  {
   "cell_type": "code",
   "execution_count": 4,
   "id": "da4c16d2",
   "metadata": {},
   "outputs": [],
   "source": [
    "# Introduce missing values\n",
    "for i in random.sample(range(len(data)), 50):\n",
    "    data[i][\"Email\"] = None\n",
    "\n",
    "# Introduce duplicate records\n",
    "data.extend(random.sample(data,100))\n",
    "\n",
    "# Introduce outliers\n",
    "for i in random.sample(range(len(data)), 20):\n",
    "    data[i][\"Salary\"] = random.randint(200000, 500000)"
   ]
  },
  {
   "cell_type": "code",
   "execution_count": 5,
   "id": "849c7c55",
   "metadata": {},
   "outputs": [],
   "source": [
    "# Create dataframe with data from list (easy)\n",
    "\n",
    "df = pd.DataFrame(data)"
   ]
  },
  {
   "cell_type": "markdown",
   "id": "060683ff",
   "metadata": {},
   "source": [
    "# Data understanding"
   ]
  },
  {
   "cell_type": "code",
   "execution_count": 6,
   "id": "2b44d9b5",
   "metadata": {},
   "outputs": [
    {
     "name": "stdout",
     "output_type": "stream",
     "text": [
      "<class 'pandas.core.frame.DataFrame'>\n",
      "RangeIndex: 1100 entries, 0 to 1099\n",
      "Data columns (total 9 columns):\n",
      " #   Column             Non-Null Count  Dtype \n",
      "---  ------             --------------  ----- \n",
      " 0   Name               1100 non-null   object\n",
      " 1   Age                1100 non-null   int64 \n",
      " 2   Email              1044 non-null   object\n",
      " 3   Phone              1100 non-null   object\n",
      " 4   Address            1100 non-null   object\n",
      " 5   Salary             1100 non-null   int64 \n",
      " 6   Join_Date          1100 non-null   object\n",
      " 7   Employment_Status  1100 non-null   object\n",
      " 8   Department         1100 non-null   object\n",
      "dtypes: int64(2), object(7)\n",
      "memory usage: 77.5+ KB\n"
     ]
    }
   ],
   "source": [
    "df.info()"
   ]
  },
  {
   "cell_type": "code",
   "execution_count": 8,
   "id": "f72e168a",
   "metadata": {},
   "outputs": [
    {
     "data": {
      "text/html": [
       "<div>\n",
       "<style scoped>\n",
       "    .dataframe tbody tr th:only-of-type {\n",
       "        vertical-align: middle;\n",
       "    }\n",
       "\n",
       "    .dataframe tbody tr th {\n",
       "        vertical-align: top;\n",
       "    }\n",
       "\n",
       "    .dataframe thead th {\n",
       "        text-align: right;\n",
       "    }\n",
       "</style>\n",
       "<table border=\"1\" class=\"dataframe\">\n",
       "  <thead>\n",
       "    <tr style=\"text-align: right;\">\n",
       "      <th></th>\n",
       "      <th>Name</th>\n",
       "      <th>Age</th>\n",
       "      <th>Email</th>\n",
       "      <th>Phone</th>\n",
       "      <th>Address</th>\n",
       "      <th>Salary</th>\n",
       "      <th>Join_Date</th>\n",
       "      <th>Employment_Status</th>\n",
       "      <th>Department</th>\n",
       "    </tr>\n",
       "  </thead>\n",
       "  <tbody>\n",
       "    <tr>\n",
       "      <th>0</th>\n",
       "      <td>Allison Hill</td>\n",
       "      <td>68</td>\n",
       "      <td>donaldgarcia@example.net</td>\n",
       "      <td>+1-219-560-0133</td>\n",
       "      <td>79402 Peterson Drives Apt. 511\\nDavisstad, PA ...</td>\n",
       "      <td>89138</td>\n",
       "      <td>2020-05-14</td>\n",
       "      <td>Full-Time</td>\n",
       "      <td>HR</td>\n",
       "    </tr>\n",
       "    <tr>\n",
       "      <th>1</th>\n",
       "      <td>Kimberly Dudley</td>\n",
       "      <td>64</td>\n",
       "      <td>smiller@example.net</td>\n",
       "      <td>+1-659-931-0341x316</td>\n",
       "      <td>55341 Amanda Gardens Apt. 764\\nLake Mark, WI 0...</td>\n",
       "      <td>105855</td>\n",
       "      <td>2021-12-12</td>\n",
       "      <td>Part-Time</td>\n",
       "      <td>Finance</td>\n",
       "    </tr>\n",
       "    <tr>\n",
       "      <th>2</th>\n",
       "      <td>Renee Morales</td>\n",
       "      <td>33</td>\n",
       "      <td>clarksherri@example.net</td>\n",
       "      <td>837-767-2423x88496</td>\n",
       "      <td>710 Eric Estate\\nCarlsonfurt, MS 78605</td>\n",
       "      <td>149150</td>\n",
       "      <td>2023-12-25</td>\n",
       "      <td>Part-Time</td>\n",
       "      <td>Finance</td>\n",
       "    </tr>\n",
       "    <tr>\n",
       "      <th>3</th>\n",
       "      <td>Tricia Valencia</td>\n",
       "      <td>45</td>\n",
       "      <td>frazierdanny@example.net</td>\n",
       "      <td>001-645-514-6270x48281</td>\n",
       "      <td>809 Burns Creek\\nNatashaport, IA 08093</td>\n",
       "      <td>51821</td>\n",
       "      <td>2022-01-18</td>\n",
       "      <td>Contract</td>\n",
       "      <td>Finance</td>\n",
       "    </tr>\n",
       "    <tr>\n",
       "      <th>4</th>\n",
       "      <td>Theresa Miller</td>\n",
       "      <td>43</td>\n",
       "      <td>wcabrera@example.net</td>\n",
       "      <td>001-822-778-2489x63834</td>\n",
       "      <td>33150 Brianna Avenue Apt. 031\\nPort Markhaven,...</td>\n",
       "      <td>69867</td>\n",
       "      <td>2024-02-17</td>\n",
       "      <td>Contract</td>\n",
       "      <td>Finance</td>\n",
       "    </tr>\n",
       "    <tr>\n",
       "      <th>5</th>\n",
       "      <td>Carlos Walls</td>\n",
       "      <td>26</td>\n",
       "      <td>None</td>\n",
       "      <td>311.265.6670</td>\n",
       "      <td>33387 Robert Harbors Suite 317\\nNorth Denisesi...</td>\n",
       "      <td>139849</td>\n",
       "      <td>2020-10-16</td>\n",
       "      <td>Contract</td>\n",
       "      <td>Engineering</td>\n",
       "    </tr>\n",
       "    <tr>\n",
       "      <th>6</th>\n",
       "      <td>Sarah Martin</td>\n",
       "      <td>57</td>\n",
       "      <td>zolson@example.org</td>\n",
       "      <td>(960)464-7468</td>\n",
       "      <td>98050 Breanna Parkway\\nNorth Susan, CO 24857</td>\n",
       "      <td>79903</td>\n",
       "      <td>2020-07-31</td>\n",
       "      <td>Part-Time</td>\n",
       "      <td>Engineering</td>\n",
       "    </tr>\n",
       "    <tr>\n",
       "      <th>7</th>\n",
       "      <td>Megan Young</td>\n",
       "      <td>20</td>\n",
       "      <td>davidashley@example.net</td>\n",
       "      <td>+1-509-616-9985x435</td>\n",
       "      <td>5107 Charles Forest Suite 251\\nWest Justin, NV...</td>\n",
       "      <td>61138</td>\n",
       "      <td>2022-07-28</td>\n",
       "      <td>Part-Time</td>\n",
       "      <td>Finance</td>\n",
       "    </tr>\n",
       "    <tr>\n",
       "      <th>8</th>\n",
       "      <td>Victoria Valdez</td>\n",
       "      <td>43</td>\n",
       "      <td>contrerasangela@example.net</td>\n",
       "      <td>524-711-8244</td>\n",
       "      <td>740 Cynthia Village Suite 005\\nLake Tina, GA 9...</td>\n",
       "      <td>26188</td>\n",
       "      <td>2023-10-04</td>\n",
       "      <td>Full-Time</td>\n",
       "      <td>Marketing</td>\n",
       "    </tr>\n",
       "    <tr>\n",
       "      <th>9</th>\n",
       "      <td>Jessica Smith</td>\n",
       "      <td>54</td>\n",
       "      <td>landryhannah@example.org</td>\n",
       "      <td>+1-605-798-2620</td>\n",
       "      <td>PSC 0533, Box 1586\\nAPO AP 98736</td>\n",
       "      <td>42206</td>\n",
       "      <td>2021-04-25</td>\n",
       "      <td>Full-Time</td>\n",
       "      <td>HR</td>\n",
       "    </tr>\n",
       "  </tbody>\n",
       "</table>\n",
       "</div>"
      ],
      "text/plain": [
       "              Name  Age                        Email                   Phone  \\\n",
       "0     Allison Hill   68     donaldgarcia@example.net         +1-219-560-0133   \n",
       "1  Kimberly Dudley   64          smiller@example.net     +1-659-931-0341x316   \n",
       "2    Renee Morales   33      clarksherri@example.net      837-767-2423x88496   \n",
       "3  Tricia Valencia   45     frazierdanny@example.net  001-645-514-6270x48281   \n",
       "4   Theresa Miller   43         wcabrera@example.net  001-822-778-2489x63834   \n",
       "5     Carlos Walls   26                         None            311.265.6670   \n",
       "6     Sarah Martin   57           zolson@example.org           (960)464-7468   \n",
       "7      Megan Young   20      davidashley@example.net     +1-509-616-9985x435   \n",
       "8  Victoria Valdez   43  contrerasangela@example.net            524-711-8244   \n",
       "9    Jessica Smith   54     landryhannah@example.org         +1-605-798-2620   \n",
       "\n",
       "                                             Address  Salary   Join_Date  \\\n",
       "0  79402 Peterson Drives Apt. 511\\nDavisstad, PA ...   89138  2020-05-14   \n",
       "1  55341 Amanda Gardens Apt. 764\\nLake Mark, WI 0...  105855  2021-12-12   \n",
       "2             710 Eric Estate\\nCarlsonfurt, MS 78605  149150  2023-12-25   \n",
       "3             809 Burns Creek\\nNatashaport, IA 08093   51821  2022-01-18   \n",
       "4  33150 Brianna Avenue Apt. 031\\nPort Markhaven,...   69867  2024-02-17   \n",
       "5  33387 Robert Harbors Suite 317\\nNorth Denisesi...  139849  2020-10-16   \n",
       "6       98050 Breanna Parkway\\nNorth Susan, CO 24857   79903  2020-07-31   \n",
       "7  5107 Charles Forest Suite 251\\nWest Justin, NV...   61138  2022-07-28   \n",
       "8  740 Cynthia Village Suite 005\\nLake Tina, GA 9...   26188  2023-10-04   \n",
       "9                   PSC 0533, Box 1586\\nAPO AP 98736   42206  2021-04-25   \n",
       "\n",
       "  Employment_Status   Department  \n",
       "0         Full-Time           HR  \n",
       "1         Part-Time      Finance  \n",
       "2         Part-Time      Finance  \n",
       "3          Contract      Finance  \n",
       "4          Contract      Finance  \n",
       "5          Contract  Engineering  \n",
       "6         Part-Time  Engineering  \n",
       "7         Part-Time      Finance  \n",
       "8         Full-Time    Marketing  \n",
       "9         Full-Time           HR  "
      ]
     },
     "execution_count": 8,
     "metadata": {},
     "output_type": "execute_result"
    }
   ],
   "source": [
    "df.head(10)"
   ]
  },
  {
   "cell_type": "code",
   "execution_count": 12,
   "id": "0433cf84",
   "metadata": {},
   "outputs": [
    {
     "name": "stdout",
     "output_type": "stream",
     "text": [
      "THe number of duplicate rows is:  100\n"
     ]
    }
   ],
   "source": [
    "# Find number (sum) of duplicates. Duplicates themselves are read as True of False\n",
    "duplicates = df.duplicated().sum()\n",
    "\n",
    "# Print the number of duplicates\n",
    "print (\"THe number of duplicate rows is: \", duplicates)\n",
    "\n",
    "# Drop duplicates, use inplace = True to change the dataframe on the spot without reassigning\n",
    "# Notice that duplicates above was used only to calculate the number of duplicates but we do not\n",
    "# need it here.\n",
    "df.drop_duplicates(inplace = True)"
   ]
  },
  {
   "cell_type": "code",
   "execution_count": 15,
   "id": "c043119f",
   "metadata": {},
   "outputs": [
    {
     "name": "stdout",
     "output_type": "stream",
     "text": [
      "The number of missing values is:  Name                  0\n",
      "Age                   0\n",
      "Email                50\n",
      "Phone                 0\n",
      "Address               0\n",
      "Salary                0\n",
      "Join_Date             0\n",
      "Employment_Status     0\n",
      "Department            0\n",
      "dtype: int64\n"
     ]
    }
   ],
   "source": [
    "# From info() above, non-null objects is not the same for all columns. This tells you immediately\n",
    "# that some columns have some missing data\n",
    "\n",
    "# Get number of missing values. Similar idea to duplicates above, i.e. we get total number of NaN\n",
    "missing_values = df.isna().sum()\n",
    "print(\"The number of missing values is: \", missing_values)"
   ]
  },
  {
   "cell_type": "code",
   "execution_count": 17,
   "id": "a7be8e10",
   "metadata": {},
   "outputs": [
    {
     "name": "stderr",
     "output_type": "stream",
     "text": [
      "C:\\Users\\MarioFalsaperna\\AppData\\Local\\Temp\\ipykernel_22680\\1178070505.py:4: FutureWarning: A value is trying to be set on a copy of a DataFrame or Series through chained assignment using an inplace method.\n",
      "The behavior will change in pandas 3.0. This inplace method will never work because the intermediate object on which we are setting values always behaves as a copy.\n",
      "\n",
      "For example, when doing 'df[col].method(value, inplace=True)', try using 'df.method({col: value}, inplace=True)' or df[col] = df[col].method(value) instead, to perform the operation inplace on the original object.\n",
      "\n",
      "\n",
      "  df['Email'].fillna(\"unkwown@example.com\", inplace = True)\n"
     ]
    }
   ],
   "source": [
    "# We can drop the rows with missing values -> we lose the row USE dropna()\n",
    "# Alternatively, we can use a place holder for the missing value, which we'll do. Use fillna()\n",
    "\n",
    "df['Email'].fillna(\"unkwown@example.com\", inplace = True)"
   ]
  },
  {
   "cell_type": "code",
   "execution_count": null,
   "id": "8f93d8bc",
   "metadata": {},
   "outputs": [
    {
     "data": {
      "text/plain": [
       "0   2020-05-14\n",
       "1   2021-12-12\n",
       "2   2023-12-25\n",
       "3   2022-01-18\n",
       "4   2024-02-17\n",
       "Name: Join_Date, dtype: datetime64[ns]"
      ]
     },
     "execution_count": 19,
     "metadata": {},
     "output_type": "execute_result"
    }
   ],
   "source": [
    "# Convert dates from numbers to datetime object\n",
    "\n",
    "df['Join_Date'] = pd.to_datetime(df['Join_Date'])\n",
    "\n",
    "# Check that dates are displayed correctly and in correct dtype. Use head() only for the column\n",
    "df['Join_Date'].head()"
   ]
  },
  {
   "cell_type": "code",
   "execution_count": null,
   "id": "335fb50d",
   "metadata": {},
   "outputs": [
    {
     "name": "stdout",
     "output_type": "stream",
     "text": [
      "New Features: years employed: \n",
      "   Join_Date  Years_Employed\n",
      "0 2020-05-14               5\n",
      "1 2021-12-12               4\n",
      "2 2023-12-25               2\n",
      "3 2022-01-18               3\n",
      "4 2024-02-17               1\n"
     ]
    }
   ],
   "source": [
    "# Calculate years employed this year - join date\n",
    "# use pd.Timestamp.now().year\n",
    "\n",
    "df['Years_Employed'] = pd.Timestamp.now().year - df['Join_Date'].dt.year\n",
    "\n",
    "# Think about the code above. pd calls pandas, timestamp is the class, now() is its method\n",
    "# and year selects the attribute year out of the whole date. Amazing\n",
    "\n",
    "print(\"New Features: years employed: \")\n",
    "print(df[[\"Join_Date\", \"Years_Employed\"]].head())\n",
    "\n",
    "# Notice that head is applied to a list of columns, hence the double square brackets [[]]"
   ]
  },
  {
   "cell_type": "code",
   "execution_count": 23,
   "id": "c7f16b88",
   "metadata": {},
   "outputs": [
    {
     "data": {
      "text/plain": [
       "0    79402 Peterson Drives Apt. 511 Davisstad, PA 3...\n",
       "1    55341 Amanda Gardens Apt. 764 Lake Mark, WI 07832\n",
       "2                710 Eric Estate Carlsonfurt, MS 78605\n",
       "3                809 Burns Creek Natashaport, IA 08093\n",
       "4    33150 Brianna Avenue Apt. 031 Port Markhaven, ...\n",
       "Name: Address, dtype: object"
      ]
     },
     "execution_count": 23,
     "metadata": {},
     "output_type": "execute_result"
    }
   ],
   "source": [
    "# Clean inconsistent text (strings) formatting\n",
    "# Address column contains escapable \\n that hinder readability\n",
    "# Replace \\n with spaces as \" \"\n",
    "\n",
    "df['Address'] = df['Address'].str.replace(\"\\n\", \" \", regex=False)\n",
    "\n",
    "df[\"Address\"].head()"
   ]
  },
  {
   "cell_type": "code",
   "execution_count": null,
   "id": "a00bd5c7",
   "metadata": {},
   "outputs": [
    {
     "name": "stdout",
     "output_type": "stream",
     "text": [
      "Outliers based on Salary\n",
      "                 Name  Salary\n",
      "68       Misty Hansen  357409\n",
      "102  Raymond Johnston  448255\n",
      "130    Michelle Brock  266397\n",
      "170    Heather Miller  298692\n",
      "267    Mr. Troy Gibbs  363601\n"
     ]
    }
   ],
   "source": [
    "# Handling outliers, such as extremely high salaries\n",
    "# Z-score method\n",
    "\n",
    "# Creates a single column dataframe with z-score values\n",
    "z_score = (df[\"Salary\"] - df[\"Salary\"].mean()) / df[\"Salary\"].std()\n",
    "\n",
    "# Creates a single column dataframe based on z-score, filtered for values > 3\n",
    "outliers = df[abs(z_score) > 3]\n",
    "\n",
    "\n",
    "print(\"Outliers based on Salary\")\n",
    "print(outliers[['Name', 'Salary']].head())\n",
    "\n",
    "\n"
   ]
  }
 ],
 "metadata": {
  "kernelspec": {
   "display_name": "Python 3",
   "language": "python",
   "name": "python3"
  },
  "language_info": {
   "codemirror_mode": {
    "name": "ipython",
    "version": 3
   },
   "file_extension": ".py",
   "mimetype": "text/x-python",
   "name": "python",
   "nbconvert_exporter": "python",
   "pygments_lexer": "ipython3",
   "version": "3.12.10"
  }
 },
 "nbformat": 4,
 "nbformat_minor": 5
}
